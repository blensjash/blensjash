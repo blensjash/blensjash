{
  "nbformat": 4,
  "nbformat_minor": 0,
  "metadata": {
    "colab": {
      "provenance": [],
      "authorship_tag": "ABX9TyMUg7+lTK4k32Zr03gqzsR5",
      "include_colab_link": true
    },
    "kernelspec": {
      "name": "python3",
      "display_name": "Python 3"
    },
    "language_info": {
      "name": "python"
    }
  },
  "cells": [
    {
      "cell_type": "markdown",
      "metadata": {
        "id": "view-in-github",
        "colab_type": "text"
      },
      "source": [
        "<a href=\"https://colab.research.google.com/github/blensjash/blensjash/blob/main/sem1.ipynb\" target=\"_parent\"><img src=\"https://colab.research.google.com/assets/colab-badge.svg\" alt=\"Open In Colab\"/></a>"
      ]
    },
    {
      "cell_type": "code",
      "source": [
        "myName = input(\"Enter your name: \")"
      ],
      "metadata": {
        "id": "5ch-e3y8zqKV",
        "colab": {
          "base_uri": "https://localhost:8080/"
        },
        "outputId": "68bb253a-dcdb-4659-a605-11385e9e8320"
      },
      "execution_count": 33,
      "outputs": [
        {
          "name": "stdout",
          "output_type": "stream",
          "text": [
            "Enter your name: blenda\n"
          ]
        }
      ]
    },
    {
      "cell_type": "code",
      "source": [
        "print(f\"welcome to the programming module {myName} , happy coding!\")"
      ],
      "metadata": {
        "id": "RtWCBw_q0CTd",
        "colab": {
          "base_uri": "https://localhost:8080/"
        },
        "outputId": "92a4e200-3368-486a-e331-71be41634332"
      },
      "execution_count": 34,
      "outputs": [
        {
          "output_type": "stream",
          "name": "stdout",
          "text": [
            "welcome to the programming module blenda , happy coding!\n"
          ]
        }
      ]
    },
    {
      "cell_type": "code",
      "source": [
        "num = 4\n",
        "print(type(num),id(num))\n",
        "\n"
      ],
      "metadata": {
        "colab": {
          "base_uri": "https://localhost:8080/"
        },
        "id": "F2EOgKAM5O40",
        "outputId": "a6c32daa-93f2-4c33-86cf-2cce4d8ea876"
      },
      "execution_count": 31,
      "outputs": [
        {
          "output_type": "stream",
          "name": "stdout",
          "text": [
            "<class 'int'> 132455521124688\n"
          ]
        }
      ]
    },
    {
      "cell_type": "code",
      "source": [],
      "metadata": {
        "id": "YE-ELNg8Dh7U"
      },
      "execution_count": null,
      "outputs": []
    },
    {
      "cell_type": "code",
      "source": [
        "num = 8\n",
        "num_sqrt = num ** 0.5\n",
        "print('The square root of %0.3f is %0.3f'%(num ,num_sqrt))"
      ],
      "metadata": {
        "colab": {
          "base_uri": "https://localhost:8080/"
        },
        "id": "h-uNYeQ46EG3",
        "outputId": "bf14cbce-e2a8-49a5-e531-ec0786b0e3f7"
      },
      "execution_count": 17,
      "outputs": [
        {
          "output_type": "stream",
          "name": "stdout",
          "text": [
            "The square root of 8.000 is 2.828\n"
          ]
        }
      ]
    },
    {
      "cell_type": "code",
      "source": [
        "import random\n",
        "print(random.randint(0,9))"
      ],
      "metadata": {
        "colab": {
          "base_uri": "https://localhost:8080/"
        },
        "id": "0t5_dfJt6nYN",
        "outputId": "da1cf6ae-0a3c-484b-d4a5-3d3298972a9e"
      },
      "execution_count": 19,
      "outputs": [
        {
          "output_type": "stream",
          "name": "stdout",
          "text": [
            "2\n"
          ]
        }
      ]
    },
    {
      "cell_type": "code",
      "source": [
        "kilometers = float(input(\"Enter value in kilometers: \"))\n",
        "conv_fac = 0.621371\n",
        "miles = kilometers * conv_fac\n",
        "print('%0.2f kilometers is equal to %0.2f miles' %(kilometers,miles))"
      ],
      "metadata": {
        "colab": {
          "base_uri": "https://localhost:8080/"
        },
        "id": "7ARzH7-x7o7l",
        "outputId": "e1498718-f785-4ad3-fc40-5b4239b96c6c"
      },
      "execution_count": 20,
      "outputs": [
        {
          "output_type": "stream",
          "name": "stdout",
          "text": [
            "Enter value in kilometers: 5\n",
            "5.00 kilometers is equal to 3.11 miles\n"
          ]
        }
      ]
    },
    {
      "cell_type": "code",
      "source": [
        "fName = \"Blenda\"\n",
        "lName = \"Jashari\"\n",
        "age = \"18\"\n",
        "print(fName,lName,str(age))"
      ],
      "metadata": {
        "colab": {
          "base_uri": "https://localhost:8080/"
        },
        "id": "UdxumMKB8EP2",
        "outputId": "e676e0db-0808-44b1-ba28-cbf6fd162a2d"
      },
      "execution_count": 21,
      "outputs": [
        {
          "output_type": "stream",
          "name": "stdout",
          "text": [
            "Blenda Jashari 18\n"
          ]
        }
      ]
    },
    {
      "cell_type": "code",
      "source": [
        "ageText = str(18)\n",
        "print(type(ageText))"
      ],
      "metadata": {
        "colab": {
          "base_uri": "https://localhost:8080/"
        },
        "id": "p8Hc0_mU8odC",
        "outputId": "f9b1685f-b455-498e-be67-84efb1d15349"
      },
      "execution_count": 24,
      "outputs": [
        {
          "output_type": "stream",
          "name": "stdout",
          "text": [
            "<class 'str'>\n"
          ]
        }
      ]
    },
    {
      "cell_type": "code",
      "source": [
        "num = 4\n",
        "num = num * 2\n",
        "num1 = num + 2\n",
        "num1 = num1 + 3\n",
        "print(num1)\n"
      ],
      "metadata": {
        "colab": {
          "base_uri": "https://localhost:8080/"
        },
        "id": "b59nmo_p84B2",
        "outputId": "8c47889b-6b79-4a07-9bca-15c17c14eebf"
      },
      "execution_count": 25,
      "outputs": [
        {
          "output_type": "stream",
          "name": "stdout",
          "text": [
            "13\n"
          ]
        }
      ]
    },
    {
      "cell_type": "code",
      "source": [
        "print (2/3)\n"
      ],
      "metadata": {
        "colab": {
          "base_uri": "https://localhost:8080/"
        },
        "id": "QLuy8TMv9Z8q",
        "outputId": "afa4530c-e07b-4c79-e909-11e3bb3821e0"
      },
      "execution_count": 26,
      "outputs": [
        {
          "output_type": "stream",
          "name": "stdout",
          "text": [
            "0.6666666666666666\n"
          ]
        }
      ]
    },
    {
      "cell_type": "code",
      "source": [
        "print (2//3)\n"
      ],
      "metadata": {
        "colab": {
          "base_uri": "https://localhost:8080/"
        },
        "id": "4tSe2sTz9fEn",
        "outputId": "2665998a-468c-4cb1-f045-b119c4c6b6d4"
      },
      "execution_count": 27,
      "outputs": [
        {
          "output_type": "stream",
          "name": "stdout",
          "text": [
            "0\n"
          ]
        }
      ]
    },
    {
      "cell_type": "code",
      "source": [
        "userLogIn = input ( \"Enter username or email: \")\n",
        "passLogIn = input ( \"Enter your password:\")"
      ],
      "metadata": {
        "colab": {
          "base_uri": "https://localhost:8080/"
        },
        "id": "p-YyvhZC97Oj",
        "outputId": "55899195-cf7c-481d-9ba5-794ec78bd0af"
      },
      "execution_count": 30,
      "outputs": [
        {
          "name": "stdout",
          "output_type": "stream",
          "text": [
            "Enter username or email: blensjash\n",
            "Enter your password:Eli54321\n"
          ]
        }
      ]
    },
    {
      "cell_type": "code",
      "source": [
        "\"\"\"\n",
        "this is just a comment,\n",
        "we close it with three more qutoation marks.\n",
        "\"\"\"\n"
      ],
      "metadata": {
        "id": "Xwz9ttKXBsRW"
      },
      "execution_count": null,
      "outputs": []
    },
    {
      "cell_type": "code",
      "source": [
        "num1 = float (input ( ))\n"
      ],
      "metadata": {
        "id": "rEeO5BkhDi5a"
      },
      "execution_count": null,
      "outputs": []
    }
  ]
}